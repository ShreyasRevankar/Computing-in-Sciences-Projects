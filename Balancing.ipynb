{
 "cells": [
  {
   "cell_type": "code",
   "execution_count": 511,
   "source": [
    "import numpy as np\n",
    "import numpy.linalg as la\n",
    "import math"
   ],
   "outputs": [],
   "metadata": {}
  },
  {
   "cell_type": "code",
   "execution_count": 512,
   "source": [
    "inp_eqn = input()\n",
    "# inp_eqn = 'H 2 + O 2 = H 2 O'\n",
    "# inp_eqn = 'N 2 + H 2 = N H 3'\n",
    "inp_eqn = 'H 2 O + S O 2 = H 2 S O 4'\n",
    "# inp_eqn = 'Na Cl + Ag N O 3 = Na N O 3 + Ag Cl'"
   ],
   "outputs": [],
   "metadata": {}
  },
  {
   "cell_type": "code",
   "execution_count": 513,
   "source": [
    "def balance_chemical_eqation(inp_eqn):\n",
    "    sub_dict = {}\n",
    "    alphabets = \"abcdefghijklmonpqrstuvwxyz\"\n",
    "    for mols in inp_eqn.split():\n",
    "        if len(mols) > 1 and mols.isalpha():\n",
    "            sub_dict[alphabets[0]] = mols\n",
    "            inp_eqn = inp_eqn.replace(mols, alphabets[0])\n",
    "            alphabets = alphabets[1:]\n",
    "    inp = ''.join(inp_eqn.split())\n",
    "    inp = inp.split('=')\n",
    "    react = inp[0]\n",
    "    prod = inp[1]\n",
    "\n",
    "    atom_list = []\n",
    "\n",
    "    for letter in react:\n",
    "        if letter.isalpha() and letter not in atom_list:\n",
    "            atom_list.append(letter)\n",
    "\n",
    "    react = react.split('+')\n",
    "    prod = prod.split('+')\n",
    "\n",
    "    if type(react) == str:\n",
    "        react = [react]\n",
    "\n",
    "    if type(prod) == str:\n",
    "        prod = [prod]\n",
    "\n",
    "    # print(react, prod, atom_list)\n",
    "\n",
    "    coeffs = []\n",
    "\n",
    "    for mol in react:\n",
    "        # mol_cf = np.zeros(len(atom_list))\n",
    "        mol_cf = [0] * len(atom_list)\n",
    "        for i in range(len(mol)):\n",
    "            char = mol[i]\n",
    "            if char in atom_list and i != (len(mol) - 1) and mol[i+1].isalpha() == False:\n",
    "                mol_cf[atom_list.index(char)] += float(mol[i+1])\n",
    "            elif char in atom_list:\n",
    "                mol_cf[atom_list.index(char)] += 1\n",
    "        coeffs.append(mol_cf)\n",
    "\n",
    "    for mol in prod:\n",
    "        # mol_cf = np.zeros(len(atom_list))\n",
    "        mol_cf = [0] * len(atom_list)\n",
    "        # print(mol_cf)\n",
    "        for i in range(len(mol)):\n",
    "            char = mol[i]\n",
    "            if char in atom_list and i != (len(mol) - 1) and mol[i+1].isalpha() == False:\n",
    "                mol_cf[atom_list.index(char)] -= float(mol[i+1])\n",
    "            elif char in atom_list:\n",
    "                mol_cf[atom_list.index(char)] -= 1\n",
    "        coeffs.append(mol_cf)\n",
    "        \n",
    "    if len(coeffs) > len(coeffs[0]):\n",
    "        diff = (len(coeffs) - len(coeffs[0]))\n",
    "        for row in coeffs:\n",
    "            for i in range(diff):\n",
    "                row.append(0)\n",
    "    elif len(coeffs) < len(coeffs[0]):\n",
    "        diff = (len(coeffs[0]) - len(coeffs))\n",
    "        for i in range(diff):\n",
    "            coeffs.append([0] * len(coeffs[0]))\n",
    "\n",
    "    coeffs = np.array(np.transpose(coeffs))\n",
    "\n",
    "    vals, vecs = la.eig(coeffs)\n",
    "    vecs = np.transpose(vecs)\n",
    "    ans = np.where(abs(vals) < 1e-9)[0][0]\n",
    "    req_vec = vecs[ans].real\n",
    "\n",
    "    my_primes = [2, 3, 5, 7, 11, 13, 17, 19]\n",
    "    for i in range(len(req_vec)):\n",
    "        for p in my_primes:\n",
    "            req_vec[i] *= p\n",
    "\n",
    "    my_gcd = int(req_vec[0])\n",
    "    print(req_vec)\n",
    "    for v in req_vec:\n",
    "        my_gcd = math.gcd(int(v), my_gcd)\n",
    "\n",
    "    req_vec = np.array(req_vec)\n",
    "\n",
    "    req_vec /= my_gcd\n",
    "\n",
    "    for i in range(len(react)):\n",
    "        react[i] = str(round(req_vec[i])) + react[i]\n",
    "        react[i] = \" \".join(react[i])\n",
    "\n",
    "    for i in range(len(prod)):\n",
    "        prod[i] = str(round(req_vec[len(react) + i])) + prod[i]\n",
    "        prod[i] = \" \".join(prod[i])\n",
    "\n",
    "    react_str = \" + \".join(react)\n",
    "    prod_str = \" + \".join(prod)\n",
    "    output_eqn = react_str + \" = \" + prod_str\n",
    "    final_eq = \"\"\n",
    "    for letter in output_eqn:\n",
    "        if letter in sub_dict.keys():\n",
    "            final_eq += sub_dict[letter]\n",
    "        else:\n",
    "            final_eq += letter\n",
    "\n",
    "    return final_eq"
   ],
   "outputs": [],
   "metadata": {}
  },
  {
   "cell_type": "code",
   "execution_count": 514,
   "source": [
    "sub_dict = {}\n",
    "alphabets = \"abcdefghijklmonpqrstuvwxyz\"\n",
    "for mols in inp_eqn.split():\n",
    "    if len(mols) > 1 and mols.isalpha():\n",
    "        sub_dict[alphabets[0]] = mols\n",
    "        inp_eqn = inp_eqn.replace(mols, alphabets[0])\n",
    "        alphabets = alphabets[1:]\n",
    "inp = ''.join(inp_eqn.split())\n",
    "inp = inp.split('=')\n",
    "react = inp[0]\n",
    "prod = inp[1]\n",
    "\n",
    "atom_list = []\n",
    "\n",
    "for letter in react:\n",
    "    if letter.isalpha() and letter not in atom_list:\n",
    "        atom_list.append(letter)\n",
    "\n",
    "react = react.split('+')\n",
    "prod = prod.split('+')\n",
    "\n",
    "if type(react) == str:\n",
    "    react = [react]\n",
    "\n",
    "if type(prod) == str:\n",
    "    prod = [prod]\n",
    "\n",
    "# print(react, prod, atom_list)\n",
    "\n",
    "coeffs = []\n",
    "\n",
    "for mol in react:\n",
    "    # mol_cf = np.zeros(len(atom_list))\n",
    "    mol_cf = [0] * len(atom_list)\n",
    "    for i in range(len(mol)):\n",
    "        char = mol[i]\n",
    "        if char in atom_list and i != (len(mol) - 1) and mol[i+1].isalpha() == False:\n",
    "            mol_cf[atom_list.index(char)] += float(mol[i+1])\n",
    "        elif char in atom_list:\n",
    "            mol_cf[atom_list.index(char)] += 1\n",
    "    coeffs.append(mol_cf)\n",
    "\n",
    "for mol in prod:\n",
    "    # mol_cf = np.zeros(len(atom_list))\n",
    "    mol_cf = [0] * len(atom_list)\n",
    "    # print(mol_cf)\n",
    "    for i in range(len(mol)):\n",
    "        char = mol[i]\n",
    "        if char in atom_list and i != (len(mol) - 1) and mol[i+1].isalpha() == False:\n",
    "            mol_cf[atom_list.index(char)] -= float(mol[i+1])\n",
    "        elif char in atom_list:\n",
    "            mol_cf[atom_list.index(char)] -= 1\n",
    "    coeffs.append(mol_cf)\n",
    "\n",
    "# coeffs = np.array(coeffs)\n",
    "\n",
    "coeffs"
   ],
   "outputs": [
    {
     "output_type": "execute_result",
     "data": {
      "text/plain": [
       "[[2.0, 1, 0], [0, 2.0, 1], [-2.0, -4.0, -1]]"
      ]
     },
     "metadata": {},
     "execution_count": 514
    }
   ],
   "metadata": {}
  },
  {
   "cell_type": "code",
   "execution_count": 515,
   "source": [
    "if len(coeffs) > len(coeffs[0]):\n",
    "    diff = (len(coeffs) - len(coeffs[0]))\n",
    "    for row in coeffs:\n",
    "        for i in range(diff):\n",
    "            row.append(0)\n",
    "elif len(coeffs) < len(coeffs[0]):\n",
    "    diff = (len(coeffs[0]) - len(coeffs))\n",
    "    for i in range(diff):\n",
    "        coeffs.append([0] * len(coeffs[0]))\n",
    "        "
   ],
   "outputs": [],
   "metadata": {}
  },
  {
   "cell_type": "code",
   "execution_count": 516,
   "source": [
    "coeffs = np.array(np.transpose(coeffs))\n",
    "# coeffs = np.array(coeffs)"
   ],
   "outputs": [],
   "metadata": {}
  },
  {
   "cell_type": "code",
   "execution_count": 517,
   "source": [
    "coeffs"
   ],
   "outputs": [
    {
     "output_type": "execute_result",
     "data": {
      "text/plain": [
       "array([[ 2.,  0., -2.],\n",
       "       [ 1.,  2., -4.],\n",
       "       [ 0.,  1., -1.]])"
      ]
     },
     "metadata": {},
     "execution_count": 517
    }
   ],
   "metadata": {}
  },
  {
   "cell_type": "code",
   "execution_count": 518,
   "source": [
    "print(la.eig(coeffs))\n",
    "vals, vecs = la.eig(coeffs)\n",
    "vecs = np.transpose(vecs)\n",
    "ans = np.where(abs(vals.real) < 1e-9)[0][0]\n",
    "req_vec = vecs[ans].real\n",
    "# vecs\n",
    "# print(vecs)\n",
    "# la.eig()"
   ],
   "outputs": [
    {
     "output_type": "stream",
     "name": "stdout",
     "text": [
      "(array([1.+0.j, 1.+1.j, 1.-1.j]), array([[ 0.66666667+0.j        , -0.47434165-0.15811388j,\n",
      "        -0.47434165+0.15811388j],\n",
      "       [ 0.66666667+0.j        , -0.79056942+0.j        ,\n",
      "        -0.79056942-0.j        ],\n",
      "       [ 0.33333333+0.j        , -0.31622777+0.15811388j,\n",
      "        -0.31622777-0.15811388j]]))\n"
     ]
    },
    {
     "output_type": "error",
     "ename": "IndexError",
     "evalue": "index 0 is out of bounds for axis 0 with size 0",
     "traceback": [
      "\u001b[0;31m---------------------------------------------------------------------------\u001b[0m",
      "\u001b[0;31mIndexError\u001b[0m                                Traceback (most recent call last)",
      "\u001b[0;32m<ipython-input-518-e4ff9a594f64>\u001b[0m in \u001b[0;36m<module>\u001b[0;34m\u001b[0m\n\u001b[1;32m      2\u001b[0m \u001b[0mvals\u001b[0m\u001b[0;34m,\u001b[0m \u001b[0mvecs\u001b[0m \u001b[0;34m=\u001b[0m \u001b[0mla\u001b[0m\u001b[0;34m.\u001b[0m\u001b[0meig\u001b[0m\u001b[0;34m(\u001b[0m\u001b[0mcoeffs\u001b[0m\u001b[0;34m)\u001b[0m\u001b[0;34m\u001b[0m\u001b[0;34m\u001b[0m\u001b[0m\n\u001b[1;32m      3\u001b[0m \u001b[0mvecs\u001b[0m \u001b[0;34m=\u001b[0m \u001b[0mnp\u001b[0m\u001b[0;34m.\u001b[0m\u001b[0mtranspose\u001b[0m\u001b[0;34m(\u001b[0m\u001b[0mvecs\u001b[0m\u001b[0;34m)\u001b[0m\u001b[0;34m\u001b[0m\u001b[0;34m\u001b[0m\u001b[0m\n\u001b[0;32m----> 4\u001b[0;31m \u001b[0mans\u001b[0m \u001b[0;34m=\u001b[0m \u001b[0mnp\u001b[0m\u001b[0;34m.\u001b[0m\u001b[0mwhere\u001b[0m\u001b[0;34m(\u001b[0m\u001b[0mabs\u001b[0m\u001b[0;34m(\u001b[0m\u001b[0mvals\u001b[0m\u001b[0;34m.\u001b[0m\u001b[0mreal\u001b[0m\u001b[0;34m)\u001b[0m \u001b[0;34m<\u001b[0m \u001b[0;36m1e-9\u001b[0m\u001b[0;34m)\u001b[0m\u001b[0;34m[\u001b[0m\u001b[0;36m0\u001b[0m\u001b[0;34m]\u001b[0m\u001b[0;34m[\u001b[0m\u001b[0;36m0\u001b[0m\u001b[0;34m]\u001b[0m\u001b[0;34m\u001b[0m\u001b[0;34m\u001b[0m\u001b[0m\n\u001b[0m\u001b[1;32m      5\u001b[0m \u001b[0mreq_vec\u001b[0m \u001b[0;34m=\u001b[0m \u001b[0mvecs\u001b[0m\u001b[0;34m[\u001b[0m\u001b[0mans\u001b[0m\u001b[0;34m]\u001b[0m\u001b[0;34m.\u001b[0m\u001b[0mreal\u001b[0m\u001b[0;34m\u001b[0m\u001b[0;34m\u001b[0m\u001b[0m\n\u001b[1;32m      6\u001b[0m \u001b[0;31m# vecs\u001b[0m\u001b[0;34m\u001b[0m\u001b[0;34m\u001b[0m\u001b[0;34m\u001b[0m\u001b[0m\n",
      "\u001b[0;31mIndexError\u001b[0m: index 0 is out of bounds for axis 0 with size 0"
     ]
    }
   ],
   "metadata": {}
  },
  {
   "cell_type": "code",
   "execution_count": null,
   "source": [
    "print(req_vec)\n",
    "my_primes = [2, 3, 5, 7, 11, 13, 17, 19]\n",
    "for i in range(len(req_vec)):\n",
    "    for p in my_primes:\n",
    "        req_vec[i] *= p\n",
    "\n",
    "my_gcd = int(req_vec[0])\n",
    "print(req_vec)\n",
    "for v in req_vec:\n",
    "    my_gcd = math.gcd(int(v), my_gcd)\n",
    "\n",
    "req_vec = np.array(req_vec)\n",
    "\n",
    "req_vec /= my_gcd"
   ],
   "outputs": [
    {
     "output_type": "stream",
     "name": "stdout",
     "text": [
      "[0.26726124 0.80178373 0.53452248]\n",
      "[2592351.19556552 7777053.58669657 5184702.39113105]\n"
     ]
    }
   ],
   "metadata": {}
  },
  {
   "cell_type": "code",
   "execution_count": null,
   "source": [
    "print(req_vec)\n",
    "\n",
    "for i in range(len(react)):\n",
    "    react[i] = str(round(req_vec[i])) + react[i]\n",
    "    react[i] = \" \".join(react[i])\n",
    "\n",
    "for i in range(len(prod)):\n",
    "    prod[i] = str(round(req_vec[len(react) + i])) + prod[i]\n",
    "    prod[i] = \" \".join(prod[i])"
   ],
   "outputs": [
    {
     "output_type": "stream",
     "name": "stdout",
     "text": [
      "[1.00000008 3.00000023 2.00000015]\n"
     ]
    }
   ],
   "metadata": {}
  },
  {
   "cell_type": "code",
   "execution_count": null,
   "source": [
    "print(react, prod)\n",
    "react_str = \" + \".join(react)\n",
    "prod_str = \" + \".join(prod)\n",
    "output_eqn = react_str + \" = \" + prod_str\n",
    "final_eq = \"\"\n",
    "for letter in output_eqn:\n",
    "    if letter in sub_dict.keys():\n",
    "        final_eq += sub_dict[letter]\n",
    "    else:\n",
    "        final_eq += letter"
   ],
   "outputs": [
    {
     "output_type": "stream",
     "name": "stdout",
     "text": [
      "['1 N 2', '3 H 2'] ['2 N H 3']\n"
     ]
    }
   ],
   "metadata": {}
  },
  {
   "cell_type": "code",
   "execution_count": null,
   "source": [
    "print(final_eq)"
   ],
   "outputs": [
    {
     "output_type": "stream",
     "name": "stdout",
     "text": [
      "1 N 2 + 3 H 2 = 2 N H 3\n"
     ]
    }
   ],
   "metadata": {}
  },
  {
   "cell_type": "code",
   "execution_count": null,
   "source": [
    "round(3.9)"
   ],
   "outputs": [
    {
     "output_type": "execute_result",
     "data": {
      "text/plain": [
       "4"
      ]
     },
     "metadata": {},
     "execution_count": 502
    }
   ],
   "metadata": {}
  },
  {
   "cell_type": "code",
   "execution_count": null,
   "source": [],
   "outputs": [],
   "metadata": {}
  }
 ],
 "metadata": {
  "orig_nbformat": 4,
  "language_info": {
   "name": "python",
   "version": "3.9.2",
   "mimetype": "text/x-python",
   "codemirror_mode": {
    "name": "ipython",
    "version": 3
   },
   "pygments_lexer": "ipython3",
   "nbconvert_exporter": "python",
   "file_extension": ".py"
  },
  "kernelspec": {
   "name": "python3",
   "display_name": "Python 3.9.2 64-bit"
  },
  "interpreter": {
   "hash": "aee8b7b246df8f9039afb4144a1f6fd8d2ca17a180786b69acc140d282b71a49"
  }
 },
 "nbformat": 4,
 "nbformat_minor": 2
}