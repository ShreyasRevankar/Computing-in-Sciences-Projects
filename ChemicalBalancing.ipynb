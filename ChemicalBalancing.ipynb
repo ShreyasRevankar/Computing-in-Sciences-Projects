{
 "cells": [
  {
   "cell_type": "code",
   "execution_count": 23,
   "source": [
    "import numpy as np\n",
    "import numpy.linalg as la\n",
    "import math"
   ],
   "outputs": [],
   "metadata": {}
  },
  {
   "cell_type": "code",
   "execution_count": 24,
   "source": [
    "inp_eqn = input()\n",
    "'''Uncomment any one to run a testcase'''\n",
    "# inp_eqn = 'H 2 + O 2 = H 2 O'\n",
    "# inp_eqn = 'N 2 + H 2 = N H 3'\n",
    "# inp_eqn = 'H 2 O + S O 3 = H 2 S O 4'"
   ],
   "outputs": [
    {
     "output_type": "execute_result",
     "data": {
      "text/plain": [
       "'Uncomment any one to run a testcase'"
      ]
     },
     "metadata": {},
     "execution_count": 24
    }
   ],
   "metadata": {}
  },
  {
   "cell_type": "code",
   "execution_count": 25,
   "source": [
    "def BalanceChemicalEqation(inp_eqn):\n",
    "    '''Takes in a string in a particular format and returns its balanced form'''\n",
    "    try:\n",
    "        sub_dict = {}\n",
    "        alphabets = \"abcdefghijklmonpqrstuvwxyz\"\n",
    "        for mols in inp_eqn.split():\n",
    "            if len(mols) > 1 and mols.isalpha():\n",
    "                sub_dict[alphabets[0]] = mols\n",
    "                inp_eqn = inp_eqn.replace(mols, alphabets[0])\n",
    "                alphabets = alphabets[1:]\n",
    "        inp = ''.join(inp_eqn.split())\n",
    "        inp = inp.split('=')\n",
    "        react = inp[0]\n",
    "        prod = inp[1]\n",
    "\n",
    "        atom_list = []\n",
    "\n",
    "        for letter in react:\n",
    "            if letter.isalpha() and letter not in atom_list:\n",
    "                atom_list.append(letter)\n",
    "\n",
    "        react = react.split('+')\n",
    "        prod = prod.split('+')\n",
    "\n",
    "        if type(react) == str:\n",
    "            react = [react]\n",
    "\n",
    "        if type(prod) == str:\n",
    "            prod = [prod]\n",
    "\n",
    "        # print(react, prod, atom_list)\n",
    "\n",
    "        coeffs = []\n",
    "\n",
    "        for mol in react:\n",
    "            # mol_cf = np.zeros(len(atom_list))\n",
    "            mol_cf = [0] * len(atom_list)\n",
    "            for i in range(len(mol)):\n",
    "                char = mol[i]\n",
    "                if char in atom_list and i != (len(mol) - 1) and mol[i+1].isalpha() == False:\n",
    "                    mol_cf[atom_list.index(char)] += float(mol[i+1])\n",
    "                elif char in atom_list:\n",
    "                    mol_cf[atom_list.index(char)] += 1\n",
    "            coeffs.append(mol_cf)\n",
    "\n",
    "        for mol in prod:\n",
    "            # mol_cf = np.zeros(len(atom_list))\n",
    "            mol_cf = [0] * len(atom_list)\n",
    "            # print(mol_cf)\n",
    "            for i in range(len(mol)):\n",
    "                char = mol[i]\n",
    "                if char in atom_list and i != (len(mol) - 1) and mol[i+1].isalpha() == False:\n",
    "                    mol_cf[atom_list.index(char)] -= float(mol[i+1])\n",
    "                elif char in atom_list:\n",
    "                    mol_cf[atom_list.index(char)] -= 1\n",
    "            coeffs.append(mol_cf)\n",
    "            \n",
    "        if len(coeffs) > len(coeffs[0]):\n",
    "            diff = (len(coeffs) - len(coeffs[0]))\n",
    "            for row in coeffs:\n",
    "                for i in range(diff):\n",
    "                    row.append(0)\n",
    "        elif len(coeffs) < len(coeffs[0]):\n",
    "            diff = (len(coeffs[0]) - len(coeffs))\n",
    "            for i in range(diff):\n",
    "                coeffs.append([0] * len(coeffs[0]))\n",
    "\n",
    "        coeffs = np.array(np.transpose(coeffs))\n",
    "\n",
    "        vals, vecs = la.eig(coeffs)\n",
    "        vecs = np.transpose(vecs)\n",
    "        ans = np.where(abs(vals) < 1e-9)[0][0]\n",
    "        req_vec = vecs[ans].real\n",
    "\n",
    "        my_primes = [2, 3, 5, 7, 11, 13, 17, 19]\n",
    "        for i in range(len(req_vec)):\n",
    "            for p in my_primes:\n",
    "                req_vec[i] *= p\n",
    "\n",
    "        my_gcd = int(req_vec[0])\n",
    "        # print(req_vec)\n",
    "        for v in req_vec:\n",
    "            my_gcd = math.gcd(int(v), my_gcd)\n",
    "\n",
    "        req_vec = np.array(req_vec)\n",
    "\n",
    "        req_vec /= my_gcd\n",
    "\n",
    "        for i in range(len(react)):\n",
    "            react[i] = str(round(req_vec[i])) + react[i]\n",
    "            react[i] = \" \".join(react[i])\n",
    "\n",
    "        for i in range(len(prod)):\n",
    "            prod[i] = str(round(req_vec[len(react) + i])) + prod[i]\n",
    "            prod[i] = \" \".join(prod[i])\n",
    "\n",
    "        react_str = \" + \".join(react)\n",
    "        prod_str = \" + \".join(prod)\n",
    "        output_eqn = react_str + \" = \" + prod_str\n",
    "        final_eq = \"\"\n",
    "        for letter in output_eqn:\n",
    "            if letter in sub_dict.keys():\n",
    "                final_eq += sub_dict[letter]\n",
    "            else:\n",
    "                final_eq += letter\n",
    "\n",
    "        return final_eq \n",
    "    except:\n",
    "        print(\"OOPS! Solution could not be found using this method\")\n",
    "        return -1"
   ],
   "outputs": [],
   "metadata": {}
  },
  {
   "cell_type": "code",
   "execution_count": 26,
   "source": [
    "print(BalanceChemicalEqation(inp_eqn))"
   ],
   "outputs": [
    {
     "output_type": "stream",
     "name": "stdout",
     "text": [
      "Sorry an Error Occurred!!\n",
      "-1\n"
     ]
    }
   ],
   "metadata": {}
  },
  {
   "cell_type": "markdown",
   "source": [
    "When the number of atoms is greater than or equal to the number of compounds in question we do not get a solution"
   ],
   "metadata": {}
  }
 ],
 "metadata": {
  "orig_nbformat": 4,
  "language_info": {
   "name": "python",
   "version": "3.9.2",
   "mimetype": "text/x-python",
   "codemirror_mode": {
    "name": "ipython",
    "version": 3
   },
   "pygments_lexer": "ipython3",
   "nbconvert_exporter": "python",
   "file_extension": ".py"
  },
  "kernelspec": {
   "name": "python3",
   "display_name": "Python 3.9.2 64-bit"
  },
  "interpreter": {
   "hash": "aee8b7b246df8f9039afb4144a1f6fd8d2ca17a180786b69acc140d282b71a49"
  }
 },
 "nbformat": 4,
 "nbformat_minor": 2
}